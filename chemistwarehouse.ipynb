{
 "cells": [
  {
   "cell_type": "code",
   "execution_count": 1,
   "metadata": {},
   "outputs": [],
   "source": [
    "from request import ScrapeWebpage\n",
    "import time\n",
    "import os\n",
    "import re"
   ]
  },
  {
   "cell_type": "code",
   "execution_count": 2,
   "metadata": {},
   "outputs": [],
   "source": [
    "def from_file(file_path):\n",
    "    with open(file_path, 'r') as file:\n",
    "        lines = file.readlines()\n",
    "        url = lines[0].strip()\n",
    "        headers = dict(line.strip().split(': ') for line in lines[1:])\n",
    "    return url, headers"
   ]
  },
  {
   "cell_type": "code",
   "execution_count": 3,
   "metadata": {},
   "outputs": [
    {
     "name": "stdout",
     "output_type": "stream",
     "text": [
      "Webpage retrieved\n",
      "<span class=\"product__price\" id=\"p_lt_ctl10_pageplaceholder_p_lt_ctl00_wBR_P_D1_ctl00_ctl00_ctl00_ctl00_ctl02_lblActualPrice\">$69.99</span>\n",
      "Found 1 occurrences with attribute 'class' and value 'product__price':\n"
     ]
    },
    {
     "ename": "NameError",
     "evalue": "name 're' is not defined",
     "output_type": "error",
     "traceback": [
      "\u001b[1;31m---------------------------------------------------------------------------\u001b[0m",
      "\u001b[1;31mNameError\u001b[0m                                 Traceback (most recent call last)",
      "Cell \u001b[1;32mIn[3], line 10\u001b[0m\n\u001b[0;32m      7\u001b[0m html_content \u001b[39m=\u001b[39m scraper\u001b[39m.\u001b[39mget_webpage()\n\u001b[0;32m      9\u001b[0m productPrice_str \u001b[39m=\u001b[39m scraper\u001b[39m.\u001b[39msearch_content(html_content, \u001b[39m'\u001b[39m\u001b[39mclass\u001b[39m\u001b[39m'\u001b[39m, \u001b[39m'\u001b[39m\u001b[39mproduct__price\u001b[39m\u001b[39m'\u001b[39m)\n\u001b[1;32m---> 10\u001b[0m productPrice \u001b[39m=\u001b[39m [\u001b[39mfloat\u001b[39m(re\u001b[39m.\u001b[39msearch(\u001b[39mr\u001b[39m\u001b[39m'\u001b[39m\u001b[39m\\\u001b[39m\u001b[39md+(?:\u001b[39m\u001b[39m\\\u001b[39m\u001b[39m.\u001b[39m\u001b[39m\\\u001b[39m\u001b[39md+)?\u001b[39m\u001b[39m'\u001b[39m, text)\u001b[39m.\u001b[39mgroup()) \u001b[39mfor\u001b[39;00m text \u001b[39min\u001b[39;00m productPrice_str \u001b[39mif\u001b[39;00m text]\n\u001b[0;32m     11\u001b[0m \u001b[39mprint\u001b[39m(productPrice)\n\u001b[0;32m     13\u001b[0m savings_str \u001b[39m=\u001b[39m scraper\u001b[39m.\u001b[39msearch_content(html_content, \u001b[39m'\u001b[39m\u001b[39mclass\u001b[39m\u001b[39m'\u001b[39m, \u001b[39m'\u001b[39m\u001b[39mSavings\u001b[39m\u001b[39m'\u001b[39m)\n",
      "Cell \u001b[1;32mIn[3], line 10\u001b[0m, in \u001b[0;36m<listcomp>\u001b[1;34m(.0)\u001b[0m\n\u001b[0;32m      7\u001b[0m html_content \u001b[39m=\u001b[39m scraper\u001b[39m.\u001b[39mget_webpage()\n\u001b[0;32m      9\u001b[0m productPrice_str \u001b[39m=\u001b[39m scraper\u001b[39m.\u001b[39msearch_content(html_content, \u001b[39m'\u001b[39m\u001b[39mclass\u001b[39m\u001b[39m'\u001b[39m, \u001b[39m'\u001b[39m\u001b[39mproduct__price\u001b[39m\u001b[39m'\u001b[39m)\n\u001b[1;32m---> 10\u001b[0m productPrice \u001b[39m=\u001b[39m [\u001b[39mfloat\u001b[39m(re\u001b[39m.\u001b[39msearch(\u001b[39mr\u001b[39m\u001b[39m'\u001b[39m\u001b[39m\\\u001b[39m\u001b[39md+(?:\u001b[39m\u001b[39m\\\u001b[39m\u001b[39m.\u001b[39m\u001b[39m\\\u001b[39m\u001b[39md+)?\u001b[39m\u001b[39m'\u001b[39m, text)\u001b[39m.\u001b[39mgroup()) \u001b[39mfor\u001b[39;00m text \u001b[39min\u001b[39;00m productPrice_str \u001b[39mif\u001b[39;00m text]\n\u001b[0;32m     11\u001b[0m \u001b[39mprint\u001b[39m(productPrice)\n\u001b[0;32m     13\u001b[0m savings_str \u001b[39m=\u001b[39m scraper\u001b[39m.\u001b[39msearch_content(html_content, \u001b[39m'\u001b[39m\u001b[39mclass\u001b[39m\u001b[39m'\u001b[39m, \u001b[39m'\u001b[39m\u001b[39mSavings\u001b[39m\u001b[39m'\u001b[39m)\n",
      "\u001b[1;31mNameError\u001b[0m: name 're' is not defined"
     ]
    }
   ],
   "source": [
    "os.environ['SSLKEYLOGFILE'] = 'sslkeylogfile.log'\n",
    "\n",
    "while True:\n",
    " \n",
    "    url,headers = from_file('info.txt')\n",
    "    scraper = ScrapeWebpage(url,headers)\n",
    "    html_content = scraper.get_webpage()\n",
    "\n",
    "    productPrice_str = scraper.search_content(html_content, 'class', 'product__price')\n",
    "    productPrice = [float(re.search(r'\\d+(?:\\.\\d+)?', text).group()) for text in productPrice_str if text]\n",
    "    print(productPrice)\n",
    "\n",
    "    savings_str = scraper.search_content(html_content, 'class', 'Savings')\n",
    "    savings = [float(re.search(r'\\d+(?:\\.\\d+)?', text).group()) for text in savings_str if text]\n",
    "    print(savings)\n",
    "\n",
    "    time.sleep(1800)\n"
   ]
  }
 ],
 "metadata": {
  "kernelspec": {
   "display_name": "base",
   "language": "python",
   "name": "python3"
  },
  "language_info": {
   "codemirror_mode": {
    "name": "ipython",
    "version": 3
   },
   "file_extension": ".py",
   "mimetype": "text/x-python",
   "name": "python",
   "nbconvert_exporter": "python",
   "pygments_lexer": "ipython3",
   "version": "3.9.16"
  },
  "orig_nbformat": 4
 },
 "nbformat": 4,
 "nbformat_minor": 2
}
